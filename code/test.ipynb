{
 "cells": [
  {
   "cell_type": "code",
   "execution_count": 12,
   "metadata": {},
   "outputs": [],
   "source": [
    "import pandas as pd\n",
    "import pickle\n",
    "\n",
    "# try:\n",
    "#     with open('../job_ids_dict.pkl', 'rb') as f:\n",
    "#         job_ids_dict = pickle.load(f)\n",
    "# except FileNotFoundError:\n",
    "#         job_ids_dict = {}\n",
    "\n",
    "\n"
   ]
  },
  {
   "cell_type": "code",
   "execution_count": 13,
   "metadata": {},
   "outputs": [],
   "source": [
    "\n",
    "df = pd.read_csv('../job_postings.csv')"
   ]
  },
  {
   "cell_type": "code",
   "execution_count": 14,
   "metadata": {},
   "outputs": [
    {
     "data": {
      "text/html": [
       "<div>\n",
       "<style scoped>\n",
       "    .dataframe tbody tr th:only-of-type {\n",
       "        vertical-align: middle;\n",
       "    }\n",
       "\n",
       "    .dataframe tbody tr th {\n",
       "        vertical-align: top;\n",
       "    }\n",
       "\n",
       "    .dataframe thead th {\n",
       "        text-align: right;\n",
       "    }\n",
       "</style>\n",
       "<table border=\"1\" class=\"dataframe\">\n",
       "  <thead>\n",
       "    <tr style=\"text-align: right;\">\n",
       "      <th></th>\n",
       "      <th>companyurl</th>\n",
       "      <th>Job Title</th>\n",
       "      <th>Job Href</th>\n",
       "      <th>Job Posting</th>\n",
       "    </tr>\n",
       "  </thead>\n",
       "  <tbody>\n",
       "    <tr>\n",
       "      <th>0</th>\n",
       "      <td>https://cat.wd5.myworkdayjobs.com/en-US/Caterp...</td>\n",
       "      <td>Senior Applications Engineer - Salesforce Deve...</td>\n",
       "      <td>https://cat.wd5.myworkdayjobs.com/en-US/Caterp...</td>\n",
       "      <td>locations\\nNashville, Tennessee\\ntime type\\nFu...</td>\n",
       "    </tr>\n",
       "  </tbody>\n",
       "</table>\n",
       "</div>"
      ],
      "text/plain": [
       "                                          companyurl  \\\n",
       "0  https://cat.wd5.myworkdayjobs.com/en-US/Caterp...   \n",
       "\n",
       "                                           Job Title  \\\n",
       "0  Senior Applications Engineer - Salesforce Deve...   \n",
       "\n",
       "                                            Job Href  \\\n",
       "0  https://cat.wd5.myworkdayjobs.com/en-US/Caterp...   \n",
       "\n",
       "                                         Job Posting  \n",
       "0  locations\\nNashville, Tennessee\\ntime type\\nFu...  "
      ]
     },
     "execution_count": 14,
     "metadata": {},
     "output_type": "execute_result"
    }
   ],
   "source": [
    "df"
   ]
  },
  {
   "cell_type": "code",
   "execution_count": null,
   "metadata": {},
   "outputs": [],
   "source": [
    "import sele"
   ]
  }
 ],
 "metadata": {
  "kernelspec": {
   "display_name": "jobsai-env",
   "language": "python",
   "name": "python3"
  },
  "language_info": {
   "codemirror_mode": {
    "name": "ipython",
    "version": 3
   },
   "file_extension": ".py",
   "mimetype": "text/x-python",
   "name": "python",
   "nbconvert_exporter": "python",
   "pygments_lexer": "ipython3",
   "version": "3.9.18"
  }
 },
 "nbformat": 4,
 "nbformat_minor": 2
}
